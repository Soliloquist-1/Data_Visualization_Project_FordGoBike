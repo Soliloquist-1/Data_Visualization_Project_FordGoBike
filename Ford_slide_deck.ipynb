{
 "cells": [
  {
   "cell_type": "markdown",
   "metadata": {
    "slideshow": {
     "slide_type": "slide"
    }
   },
   "source": [
    "# Ford GoBike – Explaining Trip Duration \n",
    "## by Mengting Tang"
   ]
  },
  {
   "cell_type": "markdown",
   "metadata": {
    "slideshow": {
     "slide_type": "slide"
    }
   },
   "source": [
    "## Investigation Overview\n",
    "\n",
    "> In this analysis, I want to investigate the interaction between features of the users and their corresponding trip durations to better predict the latter.\n",
    "\n",
    "## Dataset Overview\n",
    "\n",
    "> This data set includes information about individual rides made\n",
    "in a bike-sharing system covering the greater San Francisco\n",
    "Bay area in February 2019."
   ]
  },
  {
   "cell_type": "code",
   "execution_count": 1,
   "metadata": {
    "slideshow": {
     "slide_type": "skip"
    }
   },
   "outputs": [],
   "source": [
    "# import all packages and set plots to be embedded inline\n",
    "import numpy as np\n",
    "import pandas as pd\n",
    "import matplotlib.pyplot as plt\n",
    "import seaborn as sb\n",
    "\n",
    "%matplotlib inline\n",
    "\n",
    "# suppress warnings from final output\n",
    "import warnings\n",
    "warnings.simplefilter(\"ignore\")"
   ]
  },
  {
   "cell_type": "code",
   "execution_count": 2,
   "metadata": {
    "slideshow": {
     "slide_type": "skip"
    }
   },
   "outputs": [
    {
     "data": {
      "text/html": [
       "<div>\n",
       "<style scoped>\n",
       "    .dataframe tbody tr th:only-of-type {\n",
       "        vertical-align: middle;\n",
       "    }\n",
       "\n",
       "    .dataframe tbody tr th {\n",
       "        vertical-align: top;\n",
       "    }\n",
       "\n",
       "    .dataframe thead th {\n",
       "        text-align: right;\n",
       "    }\n",
       "</style>\n",
       "<table border=\"1\" class=\"dataframe\">\n",
       "  <thead>\n",
       "    <tr style=\"text-align: right;\">\n",
       "      <th></th>\n",
       "      <th>duration_sec</th>\n",
       "      <th>start_time</th>\n",
       "      <th>end_time</th>\n",
       "      <th>start_station_id</th>\n",
       "      <th>start_station_name</th>\n",
       "      <th>start_station_latitude</th>\n",
       "      <th>start_station_longitude</th>\n",
       "      <th>end_station_id</th>\n",
       "      <th>end_station_name</th>\n",
       "      <th>end_station_latitude</th>\n",
       "      <th>end_station_longitude</th>\n",
       "      <th>bike_id</th>\n",
       "      <th>user_type</th>\n",
       "      <th>member_birth_year</th>\n",
       "      <th>member_gender</th>\n",
       "      <th>bike_share_for_all_trip</th>\n",
       "    </tr>\n",
       "  </thead>\n",
       "  <tbody>\n",
       "    <tr>\n",
       "      <th>0</th>\n",
       "      <td>52185</td>\n",
       "      <td>2019-02-28 17:32:10.1450</td>\n",
       "      <td>2019-03-01 08:01:55.9750</td>\n",
       "      <td>21.0</td>\n",
       "      <td>Montgomery St BART Station (Market St at 2nd St)</td>\n",
       "      <td>37.789625</td>\n",
       "      <td>-122.400811</td>\n",
       "      <td>13.0</td>\n",
       "      <td>Commercial St at Montgomery St</td>\n",
       "      <td>37.794231</td>\n",
       "      <td>-122.402923</td>\n",
       "      <td>4902</td>\n",
       "      <td>Customer</td>\n",
       "      <td>1984.0</td>\n",
       "      <td>Male</td>\n",
       "      <td>No</td>\n",
       "    </tr>\n",
       "    <tr>\n",
       "      <th>2</th>\n",
       "      <td>61854</td>\n",
       "      <td>2019-02-28 12:13:13.2180</td>\n",
       "      <td>2019-03-01 05:24:08.1460</td>\n",
       "      <td>86.0</td>\n",
       "      <td>Market St at Dolores St</td>\n",
       "      <td>37.769305</td>\n",
       "      <td>-122.426826</td>\n",
       "      <td>3.0</td>\n",
       "      <td>Powell St BART Station (Market St at 4th St)</td>\n",
       "      <td>37.786375</td>\n",
       "      <td>-122.404904</td>\n",
       "      <td>5905</td>\n",
       "      <td>Customer</td>\n",
       "      <td>1972.0</td>\n",
       "      <td>Male</td>\n",
       "      <td>No</td>\n",
       "    </tr>\n",
       "    <tr>\n",
       "      <th>3</th>\n",
       "      <td>36490</td>\n",
       "      <td>2019-02-28 17:54:26.0100</td>\n",
       "      <td>2019-03-01 04:02:36.8420</td>\n",
       "      <td>375.0</td>\n",
       "      <td>Grove St at Masonic Ave</td>\n",
       "      <td>37.774836</td>\n",
       "      <td>-122.446546</td>\n",
       "      <td>70.0</td>\n",
       "      <td>Central Ave at Fell St</td>\n",
       "      <td>37.773311</td>\n",
       "      <td>-122.444293</td>\n",
       "      <td>6638</td>\n",
       "      <td>Subscriber</td>\n",
       "      <td>1989.0</td>\n",
       "      <td>Other</td>\n",
       "      <td>No</td>\n",
       "    </tr>\n",
       "    <tr>\n",
       "      <th>4</th>\n",
       "      <td>1585</td>\n",
       "      <td>2019-02-28 23:54:18.5490</td>\n",
       "      <td>2019-03-01 00:20:44.0740</td>\n",
       "      <td>7.0</td>\n",
       "      <td>Frank H Ogawa Plaza</td>\n",
       "      <td>37.804562</td>\n",
       "      <td>-122.271738</td>\n",
       "      <td>222.0</td>\n",
       "      <td>10th Ave at E 15th St</td>\n",
       "      <td>37.792714</td>\n",
       "      <td>-122.248780</td>\n",
       "      <td>4898</td>\n",
       "      <td>Subscriber</td>\n",
       "      <td>1974.0</td>\n",
       "      <td>Male</td>\n",
       "      <td>Yes</td>\n",
       "    </tr>\n",
       "    <tr>\n",
       "      <th>5</th>\n",
       "      <td>1793</td>\n",
       "      <td>2019-02-28 23:49:58.6320</td>\n",
       "      <td>2019-03-01 00:19:51.7600</td>\n",
       "      <td>93.0</td>\n",
       "      <td>4th St at Mission Bay Blvd S</td>\n",
       "      <td>37.770407</td>\n",
       "      <td>-122.391198</td>\n",
       "      <td>323.0</td>\n",
       "      <td>Broadway at Kearny</td>\n",
       "      <td>37.798014</td>\n",
       "      <td>-122.405950</td>\n",
       "      <td>5200</td>\n",
       "      <td>Subscriber</td>\n",
       "      <td>1959.0</td>\n",
       "      <td>Male</td>\n",
       "      <td>No</td>\n",
       "    </tr>\n",
       "    <tr>\n",
       "      <th>...</th>\n",
       "      <td>...</td>\n",
       "      <td>...</td>\n",
       "      <td>...</td>\n",
       "      <td>...</td>\n",
       "      <td>...</td>\n",
       "      <td>...</td>\n",
       "      <td>...</td>\n",
       "      <td>...</td>\n",
       "      <td>...</td>\n",
       "      <td>...</td>\n",
       "      <td>...</td>\n",
       "      <td>...</td>\n",
       "      <td>...</td>\n",
       "      <td>...</td>\n",
       "      <td>...</td>\n",
       "      <td>...</td>\n",
       "    </tr>\n",
       "    <tr>\n",
       "      <th>183407</th>\n",
       "      <td>480</td>\n",
       "      <td>2019-02-01 00:04:49.7240</td>\n",
       "      <td>2019-02-01 00:12:50.0340</td>\n",
       "      <td>27.0</td>\n",
       "      <td>Beale St at Harrison St</td>\n",
       "      <td>37.788059</td>\n",
       "      <td>-122.391865</td>\n",
       "      <td>324.0</td>\n",
       "      <td>Union Square (Powell St at Post St)</td>\n",
       "      <td>37.788300</td>\n",
       "      <td>-122.408531</td>\n",
       "      <td>4832</td>\n",
       "      <td>Subscriber</td>\n",
       "      <td>1996.0</td>\n",
       "      <td>Male</td>\n",
       "      <td>No</td>\n",
       "    </tr>\n",
       "    <tr>\n",
       "      <th>183408</th>\n",
       "      <td>313</td>\n",
       "      <td>2019-02-01 00:05:34.7440</td>\n",
       "      <td>2019-02-01 00:10:48.5020</td>\n",
       "      <td>21.0</td>\n",
       "      <td>Montgomery St BART Station (Market St at 2nd St)</td>\n",
       "      <td>37.789625</td>\n",
       "      <td>-122.400811</td>\n",
       "      <td>66.0</td>\n",
       "      <td>3rd St at Townsend St</td>\n",
       "      <td>37.778742</td>\n",
       "      <td>-122.392741</td>\n",
       "      <td>4960</td>\n",
       "      <td>Subscriber</td>\n",
       "      <td>1984.0</td>\n",
       "      <td>Male</td>\n",
       "      <td>No</td>\n",
       "    </tr>\n",
       "    <tr>\n",
       "      <th>183409</th>\n",
       "      <td>141</td>\n",
       "      <td>2019-02-01 00:06:05.5490</td>\n",
       "      <td>2019-02-01 00:08:27.2200</td>\n",
       "      <td>278.0</td>\n",
       "      <td>The Alameda at Bush St</td>\n",
       "      <td>37.331932</td>\n",
       "      <td>-121.904888</td>\n",
       "      <td>277.0</td>\n",
       "      <td>Morrison Ave at Julian St</td>\n",
       "      <td>37.333658</td>\n",
       "      <td>-121.908586</td>\n",
       "      <td>3824</td>\n",
       "      <td>Subscriber</td>\n",
       "      <td>1990.0</td>\n",
       "      <td>Male</td>\n",
       "      <td>Yes</td>\n",
       "    </tr>\n",
       "    <tr>\n",
       "      <th>183410</th>\n",
       "      <td>139</td>\n",
       "      <td>2019-02-01 00:05:34.3600</td>\n",
       "      <td>2019-02-01 00:07:54.2870</td>\n",
       "      <td>220.0</td>\n",
       "      <td>San Pablo Ave at MLK Jr Way</td>\n",
       "      <td>37.811351</td>\n",
       "      <td>-122.273422</td>\n",
       "      <td>216.0</td>\n",
       "      <td>San Pablo Ave at 27th St</td>\n",
       "      <td>37.817827</td>\n",
       "      <td>-122.275698</td>\n",
       "      <td>5095</td>\n",
       "      <td>Subscriber</td>\n",
       "      <td>1988.0</td>\n",
       "      <td>Male</td>\n",
       "      <td>No</td>\n",
       "    </tr>\n",
       "    <tr>\n",
       "      <th>183411</th>\n",
       "      <td>271</td>\n",
       "      <td>2019-02-01 00:00:20.6360</td>\n",
       "      <td>2019-02-01 00:04:52.0580</td>\n",
       "      <td>24.0</td>\n",
       "      <td>Spear St at Folsom St</td>\n",
       "      <td>37.789677</td>\n",
       "      <td>-122.390428</td>\n",
       "      <td>37.0</td>\n",
       "      <td>2nd St at Folsom St</td>\n",
       "      <td>37.785000</td>\n",
       "      <td>-122.395936</td>\n",
       "      <td>1057</td>\n",
       "      <td>Subscriber</td>\n",
       "      <td>1989.0</td>\n",
       "      <td>Male</td>\n",
       "      <td>No</td>\n",
       "    </tr>\n",
       "  </tbody>\n",
       "</table>\n",
       "<p>174952 rows × 16 columns</p>\n",
       "</div>"
      ],
      "text/plain": [
       "        duration_sec                start_time                  end_time  \\\n",
       "0              52185  2019-02-28 17:32:10.1450  2019-03-01 08:01:55.9750   \n",
       "2              61854  2019-02-28 12:13:13.2180  2019-03-01 05:24:08.1460   \n",
       "3              36490  2019-02-28 17:54:26.0100  2019-03-01 04:02:36.8420   \n",
       "4               1585  2019-02-28 23:54:18.5490  2019-03-01 00:20:44.0740   \n",
       "5               1793  2019-02-28 23:49:58.6320  2019-03-01 00:19:51.7600   \n",
       "...              ...                       ...                       ...   \n",
       "183407           480  2019-02-01 00:04:49.7240  2019-02-01 00:12:50.0340   \n",
       "183408           313  2019-02-01 00:05:34.7440  2019-02-01 00:10:48.5020   \n",
       "183409           141  2019-02-01 00:06:05.5490  2019-02-01 00:08:27.2200   \n",
       "183410           139  2019-02-01 00:05:34.3600  2019-02-01 00:07:54.2870   \n",
       "183411           271  2019-02-01 00:00:20.6360  2019-02-01 00:04:52.0580   \n",
       "\n",
       "        start_station_id                                start_station_name  \\\n",
       "0                   21.0  Montgomery St BART Station (Market St at 2nd St)   \n",
       "2                   86.0                           Market St at Dolores St   \n",
       "3                  375.0                           Grove St at Masonic Ave   \n",
       "4                    7.0                               Frank H Ogawa Plaza   \n",
       "5                   93.0                      4th St at Mission Bay Blvd S   \n",
       "...                  ...                                               ...   \n",
       "183407              27.0                           Beale St at Harrison St   \n",
       "183408              21.0  Montgomery St BART Station (Market St at 2nd St)   \n",
       "183409             278.0                            The Alameda at Bush St   \n",
       "183410             220.0                       San Pablo Ave at MLK Jr Way   \n",
       "183411              24.0                             Spear St at Folsom St   \n",
       "\n",
       "        start_station_latitude  start_station_longitude  end_station_id  \\\n",
       "0                    37.789625              -122.400811            13.0   \n",
       "2                    37.769305              -122.426826             3.0   \n",
       "3                    37.774836              -122.446546            70.0   \n",
       "4                    37.804562              -122.271738           222.0   \n",
       "5                    37.770407              -122.391198           323.0   \n",
       "...                        ...                      ...             ...   \n",
       "183407               37.788059              -122.391865           324.0   \n",
       "183408               37.789625              -122.400811            66.0   \n",
       "183409               37.331932              -121.904888           277.0   \n",
       "183410               37.811351              -122.273422           216.0   \n",
       "183411               37.789677              -122.390428            37.0   \n",
       "\n",
       "                                    end_station_name  end_station_latitude  \\\n",
       "0                     Commercial St at Montgomery St             37.794231   \n",
       "2       Powell St BART Station (Market St at 4th St)             37.786375   \n",
       "3                             Central Ave at Fell St             37.773311   \n",
       "4                              10th Ave at E 15th St             37.792714   \n",
       "5                                 Broadway at Kearny             37.798014   \n",
       "...                                              ...                   ...   \n",
       "183407           Union Square (Powell St at Post St)             37.788300   \n",
       "183408                         3rd St at Townsend St             37.778742   \n",
       "183409                     Morrison Ave at Julian St             37.333658   \n",
       "183410                      San Pablo Ave at 27th St             37.817827   \n",
       "183411                           2nd St at Folsom St             37.785000   \n",
       "\n",
       "        end_station_longitude  bike_id   user_type  member_birth_year  \\\n",
       "0                 -122.402923     4902    Customer             1984.0   \n",
       "2                 -122.404904     5905    Customer             1972.0   \n",
       "3                 -122.444293     6638  Subscriber             1989.0   \n",
       "4                 -122.248780     4898  Subscriber             1974.0   \n",
       "5                 -122.405950     5200  Subscriber             1959.0   \n",
       "...                       ...      ...         ...                ...   \n",
       "183407            -122.408531     4832  Subscriber             1996.0   \n",
       "183408            -122.392741     4960  Subscriber             1984.0   \n",
       "183409            -121.908586     3824  Subscriber             1990.0   \n",
       "183410            -122.275698     5095  Subscriber             1988.0   \n",
       "183411            -122.395936     1057  Subscriber             1989.0   \n",
       "\n",
       "       member_gender bike_share_for_all_trip  \n",
       "0               Male                      No  \n",
       "2               Male                      No  \n",
       "3              Other                      No  \n",
       "4               Male                     Yes  \n",
       "5               Male                      No  \n",
       "...              ...                     ...  \n",
       "183407          Male                      No  \n",
       "183408          Male                      No  \n",
       "183409          Male                     Yes  \n",
       "183410          Male                      No  \n",
       "183411          Male                      No  \n",
       "\n",
       "[174952 rows x 16 columns]"
      ]
     },
     "execution_count": 2,
     "metadata": {},
     "output_type": "execute_result"
    }
   ],
   "source": [
    "# load in the dataset into a pandas dataframe\n",
    "df = pd.read_csv('201902-fordgobike-tripdata.csv')\n",
    "df.dropna()"
   ]
  },
  {
   "cell_type": "markdown",
   "metadata": {
    "slideshow": {
     "slide_type": "notes"
    }
   },
   "source": [
    "> Note that the above cells have been set as \"Skip\"-type slides. That means\n",
    "that when the notebook is rendered as http slides, those cells won't show up."
   ]
  },
  {
   "cell_type": "markdown",
   "metadata": {
    "slideshow": {
     "slide_type": "slide"
    }
   },
   "source": [
    "## Distribution of Trip Duration\n",
    "\n",
    "> Trip duration shows a rather wide range, from around 1 minute to more than 300 minutes, with the peak at around 10 minutes, indicating that trips lasting for 10 minutes occur the most. "
   ]
  },
  {
   "cell_type": "code",
   "execution_count": 8,
   "metadata": {
    "scrolled": true,
    "slideshow": {
     "slide_type": "subslide"
    }
   },
   "outputs": [
    {
     "data": {
      "image/png": "[encoded data removed]",
      "text/plain": [
       "<Figure size 576x360 with 1 Axes>"
      ]
     },
     "metadata": {
      "needs_background": "light"
     },
     "output_type": "display_data"
    }
   ],
   "source": [
    "# convert duration in seccond to in minute for better understanding\n",
    "df['duration_min'] = df.duration_sec.div(60)\n",
    "\n",
    "# plot trip duration in minute in logarithmic scale\n",
    "\n",
    "bins = 10 ** np.arange(0, np.log10(df.duration_min.max())+0.1, 0.1)\n",
    "ticks = [0.1, 0.3, 1, 3, 10, 30, 100, 300]\n",
    "plt.figure(figsize = [8, 5])\n",
    "plt.hist(data = df, x = 'duration_min', bins = bins)\n",
    "labels = ['{}'.format(v) for v in ticks]\n",
    "plt.xticks(ticks, labels)\n",
    "plt.title('Distribution of Trip Duration')\n",
    "plt.xlabel('Duration (min)')\n",
    "plt.ylabel('Count of Trips')\n",
    "plt.xscale('log')\n",
    "plt.show()"
   ]
  },
  {
   "cell_type": "markdown",
   "metadata": {
    "collapsed": true,
    "slideshow": {
     "slide_type": "slide"
    }
   },
   "source": [
    "## User Type and Trip Duration\n",
    "\n",
    "> Subscribers tend to ride bikes for shorter duration, while customers longer. This might be attributed to their respective purposes – subscribers, with more constant needs, ride bikes for routinely activities, while customers might ride bikes for sight-seeing purposes. Further customizations could be made to tap into their respective usage patterns and needs."
   ]
  },
  {
   "cell_type": "code",
   "execution_count": 20,
   "metadata": {
    "slideshow": {
     "slide_type": "subslide"
    }
   },
   "outputs": [
    {
     "data": {
      "image/png": "[encoded data removed]",
      "text/plain": [
       "<Figure size 432x288 with 1 Axes>"
      ]
     },
     "metadata": {
      "needs_background": "light"
     },
     "output_type": "display_data"
    }
   ],
   "source": [
    "base_color = sb.color_palette()[2]\n",
    "sb.violinplot(data = df.query('duration_min < 50'), x = 'user_type', y = 'duration_min', inner = 'quartile', color = base_color)\n",
    "plt.xlabel('User Type')\n",
    "plt.ylabel('Duration (min)')\n",
    "plt.title('User Type against Trip Duration');"
   ]
  },
  {
   "cell_type": "markdown",
   "metadata": {
    "slideshow": {
     "slide_type": "slide"
    }
   },
   "source": [
    "## Trip Duration against Gender and Age\n",
    "> In both female and male users, the age group of 10 to 20 has the longest duration. In all three gender types, users above 50 show the second longest duration. It's possible that the former age group uses bikes to commute to school, while the latter group rides bikes more slowly, leading to longer duration. More measures could be taken to ensure user experience in accordance with usage patterns of different age groups.\n"
   ]
  },
  {
   "cell_type": "code",
   "execution_count": 22,
   "metadata": {
    "slideshow": {
     "slide_type": "subslide"
    }
   },
   "outputs": [
    {
     "data": {
      "image/png": "[encoded data removed]",
      "text/plain": [
       "<Figure size 576x504 with 1 Axes>"
      ]
     },
     "metadata": {
      "needs_background": "light"
     },
     "output_type": "display_data"
    }
   ],
   "source": [
    "# Relationship between trip duration, gender and age\n",
    "plt.figure(figsize = [8, 7])\n",
    "df['age'] = 2021 - df['member_birth_year']\n",
    "df['age_group'] = df['age'].apply(lambda x: '10~20' if 10 < x <= 20\n",
    "                                        else '20~30' if 20 < x <= 30\n",
    "                                        else '30~40' if 30 < x <= 40\n",
    "                                        else '40~50' if 40 < x <= 50\n",
    "                                        else '50~60' if 50 < x <= 60\n",
    "                                        else '60~')\n",
    "\n",
    "g = sb.barplot(data = df.query('duration_min < 120').sort_values(by = 'age_group'), x = 'member_gender', y = 'duration_min', hue = 'age_group');\n",
    "h, l = g.get_legend_handles_labels()\n",
    "g.legend(h, l, title = 'Age Group');\n",
    "plt.xlabel('Member Gender')\n",
    "plt.ylabel('Duration (min)')\n",
    "plt.title('Trip Duration across Gender and Age Group');"
   ]
  },
  {
   "cell_type": "markdown",
   "metadata": {
    "slideshow": {
     "slide_type": "notes"
    }
   },
   "source": [
    "> Once you're ready to finish your presentation, check your output by using\n",
    "nbconvert to export the notebook and set up a server for the slides. From the\n",
    "terminal or command line, use the following expression:\n",
    "> > `jupyter nbconvert slide_deck_template.ipynb --to slides --post serve --template output_toggle`\n",
    "\n",
    "> This should open a tab in your web browser where you can scroll through your\n",
    "presentation. Sub-slides can be accessed by pressing 'down' when viewing its parent\n",
    "slide. Make sure you remove all of the quote-formatted guide notes like this one\n",
    "before you finish your presentation!"
   ]
  },
  {
   "cell_type": "code",
   "execution_count": null,
   "metadata": {
    "slideshow": {
     "slide_type": "skip"
    }
   },
   "outputs": [
    {
     "name": "stdout",
     "output_type": "stream",
     "text": [
      "[NbConvertApp] Converting notebook Ford_slide_deck.ipynb to slides\n",
      "[NbConvertApp] Writing 331852 bytes to Ford_slide_deck.slides.html\n",
      "[NbConvertApp] Redirecting reveal.js requests to https://cdnjs.cloudflare.com/ajax/libs/reveal.js/3.5.0\n",
      "Serving your slides at http://127.0.0.1:8000/Ford_slide_deck.slides.html\n",
      "Use Control-C to stop this server\n",
      "WARNING:tornado.access:404 GET /custom.css (127.0.0.1) 1.21ms\n",
      "WARNING:tornado.access:404 GET /custom.css (127.0.0.1) 0.88ms\n"
     ]
    }
   ],
   "source": [
    "!jupyter nbconvert Ford_slide_deck.ipynb --to slides --post serve  --no-input --no-prompt"
   ]
  },
  {
   "cell_type": "code",
   "execution_count": null,
   "metadata": {},
   "outputs": [],
   "source": []
  }
 ],
 "metadata": {
  "celltoolbar": "Slideshow",
  "kernelspec": {
   "display_name": "Python 3",
   "language": "python",
   "name": "python3"
  },
  "language_info": {
   "codemirror_mode": {
    "name": "ipython",
    "version": 3
   },
   "file_extension": ".py",
   "mimetype": "text/x-python",
   "name": "python",
   "nbconvert_exporter": "python",
   "pygments_lexer": "ipython3",
   "version": "3.8.5"
  }
 },
 "nbformat": 4,
 "nbformat_minor": 2
}
